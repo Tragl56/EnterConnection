{
  "cells": [
    {
      "cell_type": "code",
      "execution_count": null,
      "metadata": {
        "colab": {
          "base_uri": "https://localhost:8080/"
        },
        "id": "ooW0tVBta2ds",
        "outputId": "70da4bf7-dadb-489a-bf52-fcad7cb19ebc"
      },
      "outputs": [
        {
          "name": "stdout",
          "output_type": "stream",
          "text": [
            "modules loaded\n"
          ]
        }
      ],
      "source": [
        "import pandas as pd\n",
        "import numpy as np\n",
        "import matplotlib.pyplot as plt\n",
        "import seaborn as sns\n",
        "import signal\n",
        "\n",
        "from sklearn.preprocessing import MinMaxScaler\n",
        "from sklearn.model_selection import train_test_split\n",
        "import tensorflow as tf\n",
        "from tensorflow import keras\n",
        "from tensorflow.keras.layers import Dense\n",
        "from tensorflow.keras.models import Sequential\n",
        "from sklearn.preprocessing import LabelEncoder\n",
        "from sklearn.linear_model import LinearRegression\n",
        "from sklearn.metrics import r2_score,mean_squared_error\n",
        "import warnings\n",
        "warnings.filterwarnings(\"ignore\")\n",
        "print(\"modules loaded\")"
      ]
    },
    {
      "cell_type": "code",
      "execution_count": null,
      "metadata": {
        "colab": {
          "base_uri": "https://localhost:8080/",
          "height": 261
        },
        "id": "EEBfNoXZZC7a",
        "outputId": "c069b530-63c0-4b2f-c96c-46d7b3d19f98"
      },
      "outputs": [],
      "source": [
        "# Upload do arquivo diretamente no Colab\n",
        "from google.colab import files\n",
        "\n",
        "# Solicitar upload do arquivo CSV\n",
        "uploaded = files.upload()\n",
        "\n",
        "# Carregar o conjunto de dados (substituindo o caminho do arquivo pelo que foi enviado)\n",
        "dados = pd.read_csv(list(uploaded.keys())[0])\n",
        "\n",
        "# Exibir as primeiras linhas para conferir o conteúdo\n",
        "dados.head()"
      ]
    },
    {
      "cell_type": "code",
      "execution_count": null,
      "metadata": {
        "colab": {
          "base_uri": "https://localhost:8080/",
          "height": 206
        },
        "id": "xeiA_9RtbCV2",
        "outputId": "0e4c9209-256a-4744-c11d-7989b113f748"
      },
      "outputs": [],
      "source": [
        "sales=pd.read_csv('/content/supermarket_sales - Sheet1 (1).csv')\n",
        "sales.head(5)"
      ]
    },
    {
      "cell_type": "code",
      "execution_count": null,
      "metadata": {
        "colab": {
          "base_uri": "https://localhost:8080/"
        },
        "id": "1dzRsZD9cYeR",
        "outputId": "5a00566a-cc6b-48ca-f8d7-6d66ebd7b0a3"
      },
      "outputs": [
        {
          "name": "stdout",
          "output_type": "stream",
          "text": [
            "<class 'pandas.core.frame.DataFrame'>\n",
            "RangeIndex: 1000 entries, 0 to 999\n",
            "Data columns (total 17 columns):\n",
            " #   Column                   Non-Null Count  Dtype  \n",
            "---  ------                   --------------  -----  \n",
            " 0   Invoice ID               1000 non-null   object \n",
            " 1   Branch                   1000 non-null   object \n",
            " 2   City                     1000 non-null   object \n",
            " 3   Customer type            1000 non-null   object \n",
            " 4   Gender                   1000 non-null   object \n",
            " 5   Product line             1000 non-null   object \n",
            " 6   Unit price               1000 non-null   float64\n",
            " 7   Quantity                 1000 non-null   int64  \n",
            " 8   Tax 5%                   1000 non-null   float64\n",
            " 9   Total                    1000 non-null   float64\n",
            " 10  Date                     1000 non-null   object \n",
            " 11  Time                     1000 non-null   object \n",
            " 12  Payment                  1000 non-null   object \n",
            " 13  cogs                     1000 non-null   float64\n",
            " 14  gross margin percentage  1000 non-null   float64\n",
            " 15  gross income             1000 non-null   float64\n",
            " 16  Rating                   1000 non-null   float64\n",
            "dtypes: float64(7), int64(1), object(9)\n",
            "memory usage: 132.9+ KB\n"
          ]
        }
      ],
      "source": [
        "sales.info()"
      ]
    },
    {
      "cell_type": "code",
      "execution_count": null,
      "metadata": {
        "colab": {
          "base_uri": "https://localhost:8080/"
        },
        "id": "4mRLsovbcj0y",
        "outputId": "2c57ddd9-52a2-4e2a-8c28-b74ce9514098"
      },
      "outputs": [
        {
          "name": "stdout",
          "output_type": "stream",
          "text": [
            "        City     Total  Rating\n",
            "0     Yangon  548.9715     9.1\n",
            "1  Naypyitaw   80.2200     9.6\n",
            "2     Yangon  340.5255     7.4\n",
            "3     Yangon  489.0480     8.4\n",
            "4     Yangon  634.3785     5.3\n"
          ]
        }
      ],
      "source": [
        "sales_subset = sales[[\"City\", \"Total\", \"Rating\"]]\n",
        "print(sales_subset.head())"
      ]
    },
    {
      "cell_type": "code",
      "execution_count": null,
      "metadata": {
        "colab": {
          "base_uri": "https://localhost:8080/"
        },
        "id": "fKxPH0FGevna",
        "outputId": "bf1132a2-a447-4404-de6c-584f0548de57"
      },
      "outputs": [
        {
          "name": "stdout",
          "output_type": "stream",
          "text": [
            "Media do Ranking : 6.9727\n"
          ]
        }
      ],
      "source": [
        "mean_rating = sales_subset[\"Rating\"].mean()\n",
        "print(f\"Media do Ranking : {mean_rating}\")"
      ]
    },
    {
      "cell_type": "code",
      "execution_count": null,
      "metadata": {
        "colab": {
          "base_uri": "https://localhost:8080/"
        },
        "id": "UkZ-78uJk-tW",
        "outputId": "971d105c-d8ca-414b-eb07-d8745aeee724"
      },
      "outputs": [
        {
          "name": "stdout",
          "output_type": "stream",
          "text": [
            "Boas:\n",
            "        City     Total  Rating\n",
            "0     Yangon  548.9715     9.1\n",
            "1  Naypyitaw   80.2200     9.6\n",
            "2     Yangon  340.5255     7.4\n",
            "3     Yangon  489.0480     8.4\n",
            "7  Naypyitaw  772.3800     8.0\n",
            "Ruins:\n",
            "         City     Total  Rating\n",
            "4      Yangon  634.3785     5.3\n",
            "5   Naypyitaw  627.6165     4.1\n",
            "6      Yangon  433.6920     5.8\n",
            "9    Mandalay  172.7460     5.9\n",
            "10   Mandalay   60.8160     4.5\n"
          ]
        }
      ],
      "source": [
        "good_companies = sales_subset[sales_subset[\"Rating\"] >= 6.9]\n",
        "bad_companies = sales_subset[sales_subset[\"Rating\"] < 6.9]\n",
        "\n",
        "print(\"Boas:\")\n",
        "print(good_companies.head())\n",
        "\n",
        "print(\"Ruins:\")\n",
        "print(bad_companies.head())"
      ]
    },
    {
      "cell_type": "code",
      "execution_count": null,
      "metadata": {
        "colab": {
          "base_uri": "https://localhost:8080/",
          "height": 429
        },
        "id": "PkPhmoPUDmK8",
        "outputId": "9a619b4b-b240-4971-84e3-0e572ac06dc4"
      },
      "outputs": [
        {
          "data": {
            "image/png": "[encoded data removed]",
            "text/plain": [
              "<Figure size 640x480 with 1 Axes>"
            ]
          },
          "metadata": {},
          "output_type": "display_data"
        }
      ],
      "source": [
        "good_count = len(good_companies)\n",
        "bad_count = len(bad_companies)\n",
        "\n",
        "labels = [\"Boas \", \"Ruins\"]\n",
        "colors = [\"green\", \"red\"]\n",
        "\n",
        "plt.pie([good_count, bad_count], labels=labels, autopct=\"%1.1f%%\", colors=colors)\n",
        "plt.title(\"Distribuição de boas e más empresas\")\n",
        "plt.show()"
      ]
    },
    {
      "cell_type": "code",
      "execution_count": null,
      "metadata": {
        "id": "h1vgA4HweL9N"
      },
      "outputs": [],
      "source": [
        "# Função para visualizar a classificação das empresas\n",
        "def visualizar_empresas(dados):\n",
        "    plt.figure(figsize=(10,6))\n",
        "    sns.countplot(x='City', hue='Tipo de Empresa', data=dados, palette='coolwarm')\n",
        "    plt.title('Empresas Boas vs Ruins por Cidade')\n",
        "    plt.xlabel('Cidade')\n",
        "    plt.ylabel('Quantidade de Empresas')\n",
        "    plt.legend(title='Tipo de Empresa')\n",
        "    plt.show()\n",
        "\n",
        "# Função genérica para validar entradas numéricas\n",
        "def obter_numero_valido(mensagem, tipo=\"float\", intervalo=None):\n",
        "    while True:\n",
        "        try:\n",
        "            valor = float(input(mensagem)) if tipo == \"float\" else int(input(mensagem))\n",
        "            if intervalo and not (intervalo[0] <= valor <= intervalo[1]):\n",
        "                print(f\"Erro: O valor deve estar entre {intervalo[0]} e {intervalo[1]}.\")\n",
        "            else:\n",
        "                return valor\n",
        "        except ValueError:\n",
        "            print(\"Erro: Insira um valor numérico válido.\")"
      ]
    },
    {
      "cell_type": "code",
      "execution_count": null,
      "metadata": {
        "id": "7ylWQsS7edb-"
      },
      "outputs": [],
      "source": [
        "# Função para remover uma empresa\n",
        "def remover_empresa(dados):\n",
        "    print(\"\\n=== Remover Empresa ===\")\n",
        "    print(dados[['City', 'Total', 'Rating']].tail())  # Mostra as últimas empresas\n",
        "    indice_remover = obter_numero_valido(\"Digite o índice da empresa a ser removida: \", tipo=\"int\", intervalo=(0, len(dados)-1))\n",
        "\n",
        "    # Remover a empresa com base no índice\n",
        "    dados = dados.drop(index=indice_remover).reset_index(drop=True)\n",
        "    print(f\"\\nEmpresa no índice {indice_remover} removida com sucesso!\")\n",
        "\n",
        "    return dados"
      ]
    },
    {
      "cell_type": "code",
      "execution_count": null,
      "metadata": {
        "id": "qwWdnaIkeev6"
      },
      "outputs": [],
      "source": [
        "def exibir_menu():\n",
        "    \"\"\"Exibe o menu de opções para gerenciamento de empresas.\"\"\"\n",
        "    print(\"\\n=== Gerenciar Empresas ===\")\n",
        "    print(\"1. Adicionar Empresa\")\n",
        "    print(\"2. Remover Empresa\")\n",
        "    print(\"3. Ver Tabela de Empresas\")\n",
        "    print(\"4. Voltar\")\n",
        "\n",
        "\n",
        "def exibir_tabela(dados):\n",
        "    \"\"\"Exibe a tabela de empresas corretamente, seja no Jupyter ou no terminal.\"\"\"\n",
        "    if \"display\" in globals():\n",
        "        display(dados)  # Para Jupyter Notebook\n",
        "    else:\n",
        "        print(dados)  # Para execução em terminal\n",
        "\n",
        "\n",
        "def gerenciar_empresas(dados):\n",
        "    \"\"\"Permite adicionar, remover ou visualizar empresas de forma interativa.\"\"\"\n",
        "    while True:\n",
        "        exibir_menu()\n",
        "        escolha = obter_numero_valido(\"Escolha uma opção: \", tipo=\"int\", intervalo=(1, 4))\n",
        "\n",
        "        if escolha == 1:\n",
        "            dados = adicionar_empresa(dados)\n",
        "        elif escolha == 2:\n",
        "            dados = remover_empresa(dados)\n",
        "        elif escolha == 3:\n",
        "            print(\"\\nTabela de Empresas:\")\n",
        "            exibir_tabela(dados)  # Chama a função de exibição\n",
        "        elif escolha == 4:\n",
        "            print(\"\\nRetornando ao menu principal...\")\n",
        "            break  # Sai do loop\n",
        "\n",
        "    return dados"
      ]
    },
    {
      "cell_type": "code",
      "execution_count": null,
      "metadata": {
        "id": "wb8eBqzBegVA"
      },
      "outputs": [],
      "source": [
        "# Função para calcular a média de avaliações\n",
        "def calcular_media_avaliacao(dados):\n",
        "    return dados['Rating'].mean()\n",
        "\n",
        "# Função principal que executa a classificação, visualização e gestão de empresas\n",
        "def executar_fluxo_empresas(dados):\n",
        "    # Calcula a média das avaliações atuais\n",
        "    media_avaliacao = calcular_media_avaliacao(dados)\n",
        "    print(f\"\\nA avaliação média atual é: {media_avaliacao:.2f}\\n\")\n",
        "\n",
        "\n",
        "    # Bloco de gerenciamento (adição ou remoção) de empresas\n",
        "    dados = gerenciar_empresas(dados)\n",
        "\n",
        "    # Recalcular a média de avaliação após modificações nas empresas\n",
        "    media_avaliacao = calcular_media_avaliacao(dados)\n",
        "    print(f\"\\nNova avaliação média: {media_avaliacao:.2f}\")\n",
        "\n",
        "    # Reclassificar as empresas e visualizar novamente\n",
        "    dados = classificar_empresas(dados, media_avaliacao)\n",
        "    visualizar_empresas(dados)\n",
        "\n",
        "    return dados"
      ]
    },
    {
      "cell_type": "code",
      "execution_count": null,
      "metadata": {
        "colab": {
          "base_uri": "https://localhost:8080/"
        },
        "id": "MxvQSF2HeilM",
        "outputId": "ae03f8e0-b8a3-4c21-c292-4edb206f14ab"
      },
      "outputs": [
        {
          "name": "stdout",
          "output_type": "stream",
          "text": [
            "        City     Total  Rating Tipo de Empresa\n",
            "0     Yangon  548.9715     9.1             Boa\n",
            "1  Naypyitaw   80.2200     9.6             Boa\n",
            "2     Yangon  340.5255     7.4             Boa\n",
            "3     Yangon  489.0480     8.4             Boa\n",
            "4     Yangon  634.3785     5.3            Ruim\n"
          ]
        }
      ],
      "source": [
        "# Definir a média de empresa \"Ruim\" como 6.97\n",
        "avaliacao_ruim = 6.97\n",
        "\n",
        "# Função para classificar as empresas como \"Boas\" ou \"Ruins\"\n",
        "def classificar_empresas(dados, avaliacao_ruim):\n",
        "    # Criar uma nova coluna 'Tipo de Empresa' para classificar\n",
        "    dados['Tipo de Empresa'] = np.where(dados['Rating'] >= avaliacao_ruim, 'Boa', 'Ruim')\n",
        "    return dados\n",
        "\n",
        "# Classificar empresas existentes como \"Boas\" ou \"Ruins\"\n",
        "dados = classificar_empresas(dados, avaliacao_ruim)\n",
        "\n",
        "# Exibir as primeiras linhas dos dados classificados\n",
        "print(dados[['City', 'Total', 'Rating', 'Tipo de Empresa']].head())"
      ]
    },
    {
      "cell_type": "code",
      "execution_count": null,
      "metadata": {
        "colab": {
          "base_uri": "https://localhost:8080/",
          "height": 443
        },
        "id": "-xns62l7ejb0",
        "outputId": "88a2fb90-7880-4f68-ce91-3b7d91765a99"
      },
      "outputs": [],
      "source": [
        "# Função para salvar e baixar o arquivo\n",
        "def salvar_e_baixar(dados, nome_arquivo=\"empresas_atualizadas.csv\"):\n",
        "    dados.to_csv(nome_arquivo, index=False)\n",
        "    print(f\"\\nArquivo salvo como {nome_arquivo}.\")\n",
        "\n",
        "    # Download do arquivo\n",
        "    files.download(nome_arquivo)  # Baixa o arquivo no Google Colab\n",
        "\n",
        "# Executar o fluxo principal\n",
        "dados = gerenciar_empresas(dados)\n",
        "salvar_e_baixar(dados)"
      ]
    }
  ],
  "metadata": {
    "colab": {
      "provenance": []
    },
    "kernelspec": {
      "display_name": "Python 3",
      "name": "python3"
    },
    "language_info": {
      "codemirror_mode": {
        "name": "ipython",
        "version": 3
      },
      "file_extension": ".py",
      "mimetype": "text/x-python",
      "name": "python",
      "nbconvert_exporter": "python",
      "pygments_lexer": "ipython3",
      "version": "3.12.3"
    }
  },
  "nbformat": 4,
  "nbformat_minor": 0
}
